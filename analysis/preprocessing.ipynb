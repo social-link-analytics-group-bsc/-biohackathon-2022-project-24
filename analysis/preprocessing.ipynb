{
 "cells": [
  {
   "cell_type": "code",
   "execution_count": 1,
   "metadata": {},
   "outputs": [],
   "source": [
    "import sys\n",
    "import os\n",
    "\n",
    "# Data access\n",
    "import pandas as pd\n",
    "import json\n",
    "# from google.colab import files\n",
    "from IPython.display import display, HTML\n",
    "\n",
    "# Data visualization\n",
    "import matplotlib.pyplot as plt\n",
    "import seaborn as sns\n",
    "# import missingno as msno\n",
    "\n",
    "import numpy as np\n",
    "# Data manipulation \n",
    "import re\n",
    "import math"
   ]
  },
  {
   "cell_type": "code",
   "execution_count": 12,
   "metadata": {},
   "outputs": [],
   "source": [
    "\n",
    "def model_sentences_preprocessing(sentences, nlp_gender_counts_csv=\"./data/male_female_counts_ok.csv\", output_folder=\"../pipeline/data/\"):\n",
    "    \"\"\"\n",
    "    Preprocessing the sentences and include male, female counts from the NLP model.\n",
    "    Returns a pandas DataFrame and stores a CSV \n",
    "    \"\"\"\n",
    "    sentences_df = pd.read_csv(sentences)\n",
    "    sentences_df = sentences_df.replace({r'\\s+$': '', r'^\\s+': ''}, regex=True).replace(r'\\n',  ' ', regex=True)\n",
    "    sentences_df.replace('None',np.NaN, inplace=True)\n",
    "\n",
    "    sentences_df_subset = sentences_df[sentences_df['tokenized_METHODS'].notna()]\n",
    "    sentences_df.set_index(\"PMCID\", inplace=True)\n",
    "\n",
    "    try: \n",
    "        counts_df = pd.read_csv(nlp_gender_counts_csv)\n",
    "        final_df_small = pd.merge(sentences_df, counts_df, on=[\"PMCID\"])\n",
    "        final_df = pd.merge(sentences_df, counts_df, how=\"outer\", on=[\"PMCID\"])\n",
    "\n",
    "        final_df.set_index(\"PMCID\", inplace=True)\n",
    "        final_df_small.set_index(\"PMCID\", inplace=True)\n",
    "\n",
    "    except FileNotFoundError:\n",
    "        final_df = sentences_df.copy()\n",
    "        final_df_small = sentences_df.copy()\n",
    "\n",
    "\n",
    "    final_df['subject'] = final_df['subject'].apply(lambda x: np.nan if x == \"[]\" else x )\n",
    "    final_df['subject'] = final_df['subject'].apply(lambda x: x.replace(\"[\",\"\").replace(\"]\",\"\").replace(\"'\", \"\").replace(\"\\\\n\", \"\").replace(\"\\\\n \", \"\") if x != \"[]\" and not isinstance(x, float) else x )\n",
    "\n",
    "    final_df_small['subject'] = final_df_small['subject'].apply(lambda x: np.nan if x == \"[]\" else x )\n",
    "    final_df_small['subject'] = final_df_small['subject'].apply(lambda x: x.replace(\"[\",\"\").replace(\"]\",\"\").replace(\"'\", \"\").replace(\"\\\\n\", \"\").replace(\"\\\\n \", \"\") if x != \"[]\" and not isinstance(x, float) else x )\n",
    "\n",
    "\n",
    "    # some rows repeat, as they contain different sentences from a single PMCID in the \"tokenized_METHODS\" column -- but they contain the same \"count\" from the model\n",
    "    # drop it and delete identical rows\n",
    "    final_df.drop([\"tokenized_METHODS\", \"Unnamed: 0\"], axis=1, inplace=True)\n",
    "    final_df.drop_duplicates(inplace=True)\n",
    "\n",
    "    final_df_small.drop([\"tokenized_METHODS\", \"Unnamed: 0\"], axis=1, inplace=True)\n",
    "    final_df_small.drop_duplicates(inplace=True)\n",
    "\n",
    "\n",
    "    # print(sentences_df.shape, sentences_df_subset.shape, counts_df.shape, final_df.shape, final_df_small.shape)\n",
    "    final_df.to_csv(f\"{output_folder}final_dataframe.csv\", sep=',', encoding='utf-8', index=False)\n",
    "    final_df_small.to_csv(f\"{output_folder}final_dataframe_subset.csv\", sep=',', encoding='utf-8', index=False)\n",
    "\n",
    "\n",
    "    # display(HTML(final_df.head(10).to_html()))\n",
    "    \n",
    "    return final_df\n",
    "\n",
    "\n",
    "final_sentences_df = model_sentences_preprocessing(sentences=\"../pipeline/data/candidate_dataframe_extended_test.csv\")"
   ]
  },
  {
   "cell_type": "markdown",
   "metadata": {},
   "source": [
    "## adding gender of authors\n"
   ]
  },
  {
   "cell_type": "code",
   "execution_count": 17,
   "metadata": {},
   "outputs": [
    {
     "name": "stdout",
     "output_type": "stream",
     "text": [
      "Index(['last_author', 'subject', 'keywords', 'journal-title', 'publisher-name',\n",
      "       'article-title', 'first_author', 'contrib', 'aff', 'year'],\n",
      "      dtype='object')\n"
     ]
    },
    {
     "ename": "ModuleNotFoundError",
     "evalue": "No module named 'gender_guesser'",
     "output_type": "error",
     "traceback": [
      "\u001b[0;31m---------------------------------------------------------------------------\u001b[0m",
      "\u001b[0;31mModuleNotFoundError\u001b[0m                       Traceback (most recent call last)",
      "\u001b[0;32m/tmp/ipykernel_20276/2980076051.py\u001b[0m in \u001b[0;36m<module>\u001b[0;34m\u001b[0m\n\u001b[1;32m      3\u001b[0m \u001b[0;31m# import gender_guesser.detector as gender\u001b[0m\u001b[0;34m\u001b[0m\u001b[0;34m\u001b[0m\u001b[0m\n\u001b[1;32m      4\u001b[0m \u001b[0;34m\u001b[0m\u001b[0m\n\u001b[0;32m----> 5\u001b[0;31m \u001b[0;32mimport\u001b[0m \u001b[0mgender_guesser\u001b[0m\u001b[0;34m\u001b[0m\u001b[0;34m\u001b[0m\u001b[0m\n\u001b[0m\u001b[1;32m      6\u001b[0m \u001b[0;34m\u001b[0m\u001b[0m\n\u001b[1;32m      7\u001b[0m \u001b[0md\u001b[0m \u001b[0;34m=\u001b[0m \u001b[0mgender\u001b[0m\u001b[0;34m.\u001b[0m\u001b[0mDetector\u001b[0m\u001b[0;34m(\u001b[0m\u001b[0;34m)\u001b[0m\u001b[0;34m\u001b[0m\u001b[0;34m\u001b[0m\u001b[0m\n",
      "\u001b[0;31mModuleNotFoundError\u001b[0m: No module named 'gender_guesser'"
     ]
    }
   ],
   "source": [
    "print(final_sentences_df.columns)\n",
    "\n",
    "import gender_guesser.detector as gender\n",
    "\n",
    "\n",
    "\n",
    "d = gender.Detector()\n",
    "print(d.get_gender(\"Bob\"))\n",
    "\n",
    "\n",
    "\n",
    "# def add_gender_info(input_csv, output_folder):\n",
    "#     \"\"\"\n",
    "#     \"\"\"\n",
    "\n",
    "    \n",
    "\n",
    "\n"
   ]
  }
 ],
 "metadata": {
  "interpreter": {
   "hash": "f9f85f796d01129d0dd105a088854619f454435301f6ffec2fea96ecbd9be4ac"
  },
  "kernelspec": {
   "display_name": "Python 3.9.12 64-bit",
   "language": "python",
   "name": "python3"
  },
  "language_info": {
   "codemirror_mode": {
    "name": "ipython",
    "version": 3
   },
   "file_extension": ".py",
   "mimetype": "text/x-python",
   "name": "python",
   "nbconvert_exporter": "python",
   "pygments_lexer": "ipython3",
   "version": "3.9.12"
  },
  "orig_nbformat": 4
 },
 "nbformat": 4,
 "nbformat_minor": 2
}
